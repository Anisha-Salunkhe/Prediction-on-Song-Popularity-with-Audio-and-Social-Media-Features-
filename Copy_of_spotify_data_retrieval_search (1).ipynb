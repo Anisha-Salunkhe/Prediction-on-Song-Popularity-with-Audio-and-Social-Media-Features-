{
  "nbformat": 4,
  "nbformat_minor": 0,
  "metadata": {
    "colab": {
      "name": "Copy of spotify data retrieval - search.ipynb",
      "provenance": [],
      "collapsed_sections": []
    },
    "kernelspec": {
      "name": "python3",
      "display_name": "Python 3"
    }
  },
  "cells": [
    {
      "cell_type": "code",
      "metadata": {
        "id": "55pEHRcqH47q",
        "colab_type": "code",
        "colab": {}
      },
      "source": [
        "from google.colab import drive\n",
        "drive.mount('/content/drive')"
      ],
      "execution_count": 0,
      "outputs": []
    },
    {
      "cell_type": "code",
      "metadata": {
        "id": "CfZuFrI3g2yW",
        "colab_type": "code",
        "outputId": "959ea481-82b4-43e0-ba4c-ccec596e2f3a",
        "colab": {
          "base_uri": "https://localhost:8080/",
          "height": 187
        }
      },
      "source": [
        "!pip install spotipy"
      ],
      "execution_count": 0,
      "outputs": [
        {
          "output_type": "stream",
          "text": [
            "Collecting spotipy\n",
            "  Downloading https://files.pythonhosted.org/packages/ea/39/8efecac5a29cb7092788c11e6dff46087bfe716663ce7b85fd7d34e85c6e/spotipy-2.10.0-py3-none-any.whl\n",
            "Requirement already satisfied: requests>=2.20.0 in /usr/local/lib/python3.6/dist-packages (from spotipy) (2.21.0)\n",
            "Requirement already satisfied: six>=1.10.0 in /usr/local/lib/python3.6/dist-packages (from spotipy) (1.12.0)\n",
            "Requirement already satisfied: certifi>=2017.4.17 in /usr/local/lib/python3.6/dist-packages (from requests>=2.20.0->spotipy) (2019.11.28)\n",
            "Requirement already satisfied: urllib3<1.25,>=1.21.1 in /usr/local/lib/python3.6/dist-packages (from requests>=2.20.0->spotipy) (1.24.3)\n",
            "Requirement already satisfied: chardet<3.1.0,>=3.0.2 in /usr/local/lib/python3.6/dist-packages (from requests>=2.20.0->spotipy) (3.0.4)\n",
            "Requirement already satisfied: idna<2.9,>=2.5 in /usr/local/lib/python3.6/dist-packages (from requests>=2.20.0->spotipy) (2.8)\n",
            "Installing collected packages: spotipy\n",
            "Successfully installed spotipy-2.10.0\n"
          ],
          "name": "stdout"
        }
      ]
    },
    {
      "cell_type": "code",
      "metadata": {
        "id": "n60_7QcXgm5f",
        "colab_type": "code",
        "colab": {}
      },
      "source": [
        "import pandas as pd\n",
        "import numpy as np"
      ],
      "execution_count": 0,
      "outputs": []
    },
    {
      "cell_type": "code",
      "metadata": {
        "id": "sF0vnLw9ge5U",
        "colab_type": "code",
        "colab": {}
      },
      "source": [
        "import spotipy\n",
        "from spotipy.oauth2 import SpotifyClientCredentials\n",
        "\n",
        "# can be gotten from https://developer.spotify.com/documentation/general/guides/authorization-guide/\n",
        "cid =\"Your Spotify ID\" \n",
        "secret = \"Your Spotify ID Secret\"\n",
        "\n",
        "client_credentials_manager = SpotifyClientCredentials(client_id=cid, client_secret=secret)\n",
        "sp = spotipy.Spotify(client_credentials_manager=client_credentials_manager)"
      ],
      "execution_count": 0,
      "outputs": []
    },
    {
      "cell_type": "code",
      "metadata": {
        "id": "iYKIpcM0gQ9z",
        "colab_type": "code",
        "outputId": "8a143691-4024-495b-953c-5a820afd1e08",
        "colab": {
          "base_uri": "https://localhost:8080/",
          "height": 54
        }
      },
      "source": [
        "# get the full list of genres\n",
        "full_genre_list = sp.recommendation_genre_seeds()['genres']\n",
        "print(full_genre_list)"
      ],
      "execution_count": 0,
      "outputs": [
        {
          "output_type": "stream",
          "text": [
            "['acoustic', 'afrobeat', 'alt-rock', 'alternative', 'ambient', 'anime', 'black-metal', 'bluegrass', 'blues', 'bossanova', 'brazil', 'breakbeat', 'british', 'cantopop', 'chicago-house', 'children', 'chill', 'classical', 'club', 'comedy', 'country', 'dance', 'dancehall', 'death-metal', 'deep-house', 'detroit-techno', 'disco', 'disney', 'drum-and-bass', 'dub', 'dubstep', 'edm', 'electro', 'electronic', 'emo', 'folk', 'forro', 'french', 'funk', 'garage', 'german', 'gospel', 'goth', 'grindcore', 'groove', 'grunge', 'guitar', 'happy', 'hard-rock', 'hardcore', 'hardstyle', 'heavy-metal', 'hip-hop', 'holidays', 'honky-tonk', 'house', 'idm', 'indian', 'indie', 'indie-pop', 'industrial', 'iranian', 'j-dance', 'j-idol', 'j-pop', 'j-rock', 'jazz', 'k-pop', 'kids', 'latin', 'latino', 'malay', 'mandopop', 'metal', 'metal-misc', 'metalcore', 'minimal-techno', 'movies', 'mpb', 'new-age', 'new-release', 'opera', 'pagode', 'party', 'philippines-opm', 'piano', 'pop', 'pop-film', 'post-dubstep', 'power-pop', 'progressive-house', 'psych-rock', 'punk', 'punk-rock', 'r-n-b', 'rainy-day', 'reggae', 'reggaeton', 'road-trip', 'rock', 'rock-n-roll', 'rockabilly', 'romance', 'sad', 'salsa', 'samba', 'sertanejo', 'show-tunes', 'singer-songwriter', 'ska', 'sleep', 'songwriter', 'soul', 'soundtracks', 'spanish', 'study', 'summer', 'swedish', 'synth-pop', 'tango', 'techno', 'trance', 'trip-hop', 'turkish', 'work-out', 'world-music']\n"
          ],
          "name": "stdout"
        }
      ]
    },
    {
      "cell_type": "code",
      "metadata": {
        "id": "jvClc4FbhJWA",
        "colab_type": "code",
        "outputId": "14916bba-c0bc-446a-90d2-852ad17de067",
        "colab": {
          "base_uri": "https://localhost:8080/",
          "height": 51
        }
      },
      "source": [
        "print(type(full_genre_list))\n",
        "print(len(full_genre_list))"
      ],
      "execution_count": 0,
      "outputs": [
        {
          "output_type": "stream",
          "text": [
            "<class 'list'>\n",
            "126\n"
          ],
          "name": "stdout"
        }
      ]
    },
    {
      "cell_type": "code",
      "metadata": {
        "id": "mYXh6d3auMi_",
        "colab_type": "code",
        "colab": {}
      },
      "source": [
        "# select the focus genre\n",
        "focus_genre_list = ['acoustic', 'blues', 'classical', 'club', 'country', 'dance', 'disco', 'electro', 'electronic', 'folk', 'funk',\n",
        "                    'groove', 'guitar', 'hard-rock', 'heavy-metal', 'hip-hop', 'indie-pop', 'j-pop', 'jazz', 'k-pop', 'latino',\n",
        "                    'mandopop', 'metal', 'opera', 'party', 'pop', 'punk', 'rock', 'rock-n-roll', 'romance',\n",
        "                    'salsa', 'samba', 'soul', 'spanish', 'tango']\n",
        "print(focus_genre_list)\n",
        "print(len(focus_genre_list))"
      ],
      "execution_count": 0,
      "outputs": []
    },
    {
      "cell_type": "code",
      "metadata": {
        "id": "LAl5D667hvIq",
        "colab_type": "code",
        "outputId": "b58df437-05d9-49f5-89ef-8b242a479ce7",
        "colab": {
          "base_uri": "https://localhost:8080/",
          "height": 119
        }
      },
      "source": [
        "years = np.arange(1960, 2020)\n",
        "years"
      ],
      "execution_count": 0,
      "outputs": [
        {
          "output_type": "execute_result",
          "data": {
            "text/plain": [
              "array([1960, 1961, 1962, 1963, 1964, 1965, 1966, 1967, 1968, 1969, 1970,\n",
              "       1971, 1972, 1973, 1974, 1975, 1976, 1977, 1978, 1979, 1980, 1981,\n",
              "       1982, 1983, 1984, 1985, 1986, 1987, 1988, 1989, 1990, 1991, 1992,\n",
              "       1993, 1994, 1995, 1996, 1997, 1998, 1999, 2000, 2001, 2002, 2003,\n",
              "       2004, 2005, 2006, 2007, 2008, 2009, 2010, 2011, 2012, 2013, 2014,\n",
              "       2015, 2016, 2017, 2018, 2019])"
            ]
          },
          "metadata": {
            "tags": []
          },
          "execution_count": 10
        }
      ]
    },
    {
      "cell_type": "code",
      "metadata": {
        "id": "2BLNnaem1Zzl",
        "colab_type": "code",
        "colab": {}
      },
      "source": [
        "# get at most 2000 songs per genre per year\n",
        "# take 5482 seconds (1.5 hours) to run all focus genres for 60 years\n",
        "# timeit library to measure the time needed to run this code\n",
        "import timeit\n",
        "start = timeit.default_timer()\n",
        "\n",
        "# create empty lists where the results are going to be stored\n",
        "genre_res = []\n",
        "year_res = []\n",
        "album_id = []\n",
        "album_name = []\n",
        "artist_id = []\n",
        "artist_name = []\n",
        "track_name = []\n",
        "track_id = []\n",
        "popularity = []\n",
        "\n",
        "for genre in focus_genre_list:\n",
        "  for year in years:\n",
        "    for i in range(0,2000,50):\n",
        "      query = 'year:' + str(year) + ' ' + 'genre:' + '\"' + genre + '\"'\n",
        "      # print(query)\n",
        "      track_results = sp.search(q=query, type='track', limit=50, offset=i)\n",
        "      for j, t in enumerate(track_results['tracks']['items']):\n",
        "        genre_res.append(genre)\n",
        "        year_res.append(year)\n",
        "        album_id.append(t['album']['id'])\n",
        "        album_name.append(t['album']['name'])\n",
        "        artist_id.append(t['artists'][0]['id'])\n",
        "        artist_name.append(t['artists'][0]['name'])\n",
        "        track_name.append(t['name'])\n",
        "        track_id.append(t['id'])\n",
        "        popularity.append(t['popularity'])\n",
        "      if len(track_results['tracks']['items']) < 50:\n",
        "        break\n",
        "      \n",
        "\n",
        "stop = timeit.default_timer()\n",
        "print ('Time to run this code (in seconds):', stop - start)"
      ],
      "execution_count": 0,
      "outputs": []
    },
    {
      "cell_type": "code",
      "metadata": {
        "id": "sbuJ7f3ZpeOV",
        "colab_type": "code",
        "outputId": "f58a3798-e730-4071-ea29-1f5286e61fc0",
        "colab": {
          "base_uri": "https://localhost:8080/",
          "height": 572
        }
      },
      "source": [
        "d = {'genre': genre_res, 'album_id': album_id, 'album_name': album_name, 'artist_id': artist_id, 'artist_name': artist_name,\n",
        "     'track_name': track_name, 'track_id': track_id, 'popularity': popularity}\n",
        "df = pd.DataFrame(data=d)\n",
        "df"
      ],
      "execution_count": 0,
      "outputs": [
        {
          "output_type": "execute_result",
          "data": {
            "text/html": [
              "<div>\n",
              "<style scoped>\n",
              "    .dataframe tbody tr th:only-of-type {\n",
              "        vertical-align: middle;\n",
              "    }\n",
              "\n",
              "    .dataframe tbody tr th {\n",
              "        vertical-align: top;\n",
              "    }\n",
              "\n",
              "    .dataframe thead th {\n",
              "        text-align: right;\n",
              "    }\n",
              "</style>\n",
              "<table border=\"1\" class=\"dataframe\">\n",
              "  <thead>\n",
              "    <tr style=\"text-align: right;\">\n",
              "      <th></th>\n",
              "      <th>genre</th>\n",
              "      <th>album_id</th>\n",
              "      <th>album_name</th>\n",
              "      <th>artist_id</th>\n",
              "      <th>artist_name</th>\n",
              "      <th>track_name</th>\n",
              "      <th>track_id</th>\n",
              "      <th>popularity</th>\n",
              "    </tr>\n",
              "  </thead>\n",
              "  <tbody>\n",
              "    <tr>\n",
              "      <th>0</th>\n",
              "      <td>acoustic</td>\n",
              "      <td>4CTVy5gDVDlrO4AJuBgha8</td>\n",
              "      <td>Furry Lewis</td>\n",
              "      <td>66SiMdpsWXE23qqX0JaWg9</td>\n",
              "      <td>Furry Lewis</td>\n",
              "      <td>John Henry</td>\n",
              "      <td>3htW4Ky3zoDU1KZGxVLfhz</td>\n",
              "      <td>18</td>\n",
              "    </tr>\n",
              "    <tr>\n",
              "      <th>1</th>\n",
              "      <td>acoustic</td>\n",
              "      <td>7BHkhXaWk5xeJe3C4LiiVO</td>\n",
              "      <td>Autobiography in Blues</td>\n",
              "      <td>6EZzVXM2uDRPmnHWq9yPDE</td>\n",
              "      <td>Lightnin' Hopkins</td>\n",
              "      <td>In the Evening the Sun is Going Down</td>\n",
              "      <td>5dS2OwMcciIrcMqXEVmSCp</td>\n",
              "      <td>11</td>\n",
              "    </tr>\n",
              "    <tr>\n",
              "      <th>2</th>\n",
              "      <td>acoustic</td>\n",
              "      <td>7BHkhXaWk5xeJe3C4LiiVO</td>\n",
              "      <td>Autobiography in Blues</td>\n",
              "      <td>6EZzVXM2uDRPmnHWq9yPDE</td>\n",
              "      <td>Lightnin' Hopkins</td>\n",
              "      <td>Trouble in Mind</td>\n",
              "      <td>2QkmNNiHM9e3R8oT2yGeVo</td>\n",
              "      <td>10</td>\n",
              "    </tr>\n",
              "    <tr>\n",
              "      <th>3</th>\n",
              "      <td>acoustic</td>\n",
              "      <td>3fjNRHWhjtxORG0KRv2nzD</td>\n",
              "      <td>The Big Bill Broonzy Story</td>\n",
              "      <td>6HwigzRpuWoCZDqMOQc5eu</td>\n",
              "      <td>Big Bill Broonzy</td>\n",
              "      <td>Goin' Down The Road Feelin' Bad</td>\n",
              "      <td>2VoJDaa4Iq5piywA1VZ2na</td>\n",
              "      <td>9</td>\n",
              "    </tr>\n",
              "    <tr>\n",
              "      <th>4</th>\n",
              "      <td>acoustic</td>\n",
              "      <td>7BHkhXaWk5xeJe3C4LiiVO</td>\n",
              "      <td>Autobiography in Blues</td>\n",
              "      <td>6EZzVXM2uDRPmnHWq9yPDE</td>\n",
              "      <td>Lightnin' Hopkins</td>\n",
              "      <td>So Long Baby</td>\n",
              "      <td>1wuGKRbfR6OqmeWTBf9mrd</td>\n",
              "      <td>9</td>\n",
              "    </tr>\n",
              "    <tr>\n",
              "      <th>...</th>\n",
              "      <td>...</td>\n",
              "      <td>...</td>\n",
              "      <td>...</td>\n",
              "      <td>...</td>\n",
              "      <td>...</td>\n",
              "      <td>...</td>\n",
              "      <td>...</td>\n",
              "      <td>...</td>\n",
              "    </tr>\n",
              "    <tr>\n",
              "      <th>2190959</th>\n",
              "      <td>tango</td>\n",
              "      <td>09t9wrOd61FKkfrlDYiiia</td>\n",
              "      <td>Aquellas Canciones de Libertad Lamarque (Tango)</td>\n",
              "      <td>4obTALkglm8PARkVVik9KZ</td>\n",
              "      <td>Libertad Lamarque</td>\n",
              "      <td>Ahora No Me Conoces</td>\n",
              "      <td>3J2GNEOtl8CU04R6K1gJWs</td>\n",
              "      <td>3</td>\n",
              "    </tr>\n",
              "    <tr>\n",
              "      <th>2190960</th>\n",
              "      <td>tango</td>\n",
              "      <td>3ITBhGgOcPsp2Akh9sxtVU</td>\n",
              "      <td>Los Tangos del Pichuco (Remastered)</td>\n",
              "      <td>7zsTaSj1Q4jSCjbj5GtmoN</td>\n",
              "      <td>Aníbal Troilo</td>\n",
              "      <td>Inspiración - Remastered</td>\n",
              "      <td>3azc5hJ77lDi49XfoVeAg7</td>\n",
              "      <td>3</td>\n",
              "    </tr>\n",
              "    <tr>\n",
              "      <th>2190961</th>\n",
              "      <td>tango</td>\n",
              "      <td>3ITBhGgOcPsp2Akh9sxtVU</td>\n",
              "      <td>Los Tangos del Pichuco (Remastered)</td>\n",
              "      <td>7zsTaSj1Q4jSCjbj5GtmoN</td>\n",
              "      <td>Aníbal Troilo</td>\n",
              "      <td>Maragata - Remastered</td>\n",
              "      <td>405FL0PhySH42qdfymm6WB</td>\n",
              "      <td>3</td>\n",
              "    </tr>\n",
              "    <tr>\n",
              "      <th>2190962</th>\n",
              "      <td>tango</td>\n",
              "      <td>09t9wrOd61FKkfrlDYiiia</td>\n",
              "      <td>Aquellas Canciones de Libertad Lamarque (Tango)</td>\n",
              "      <td>4obTALkglm8PARkVVik9KZ</td>\n",
              "      <td>Libertad Lamarque</td>\n",
              "      <td>Volver</td>\n",
              "      <td>4YA7jURY0O3rfI3Tk7mwPx</td>\n",
              "      <td>3</td>\n",
              "    </tr>\n",
              "    <tr>\n",
              "      <th>2190963</th>\n",
              "      <td>tango</td>\n",
              "      <td>0mvcr4DKuBz2gYcJZeyENN</td>\n",
              "      <td>Las Doñas del Tango, Vol. 1</td>\n",
              "      <td>4obTALkglm8PARkVVik9KZ</td>\n",
              "      <td>Libertad Lamarque</td>\n",
              "      <td>Sombras Nada Mas</td>\n",
              "      <td>57gBJla6DGVHxdIpIcKL65</td>\n",
              "      <td>0</td>\n",
              "    </tr>\n",
              "  </tbody>\n",
              "</table>\n",
              "<p>2190964 rows × 8 columns</p>\n",
              "</div>"
            ],
            "text/plain": [
              "            genre                album_id  ...                track_id popularity\n",
              "0        acoustic  4CTVy5gDVDlrO4AJuBgha8  ...  3htW4Ky3zoDU1KZGxVLfhz         18\n",
              "1        acoustic  7BHkhXaWk5xeJe3C4LiiVO  ...  5dS2OwMcciIrcMqXEVmSCp         11\n",
              "2        acoustic  7BHkhXaWk5xeJe3C4LiiVO  ...  2QkmNNiHM9e3R8oT2yGeVo         10\n",
              "3        acoustic  3fjNRHWhjtxORG0KRv2nzD  ...  2VoJDaa4Iq5piywA1VZ2na          9\n",
              "4        acoustic  7BHkhXaWk5xeJe3C4LiiVO  ...  1wuGKRbfR6OqmeWTBf9mrd          9\n",
              "...           ...                     ...  ...                     ...        ...\n",
              "2190959     tango  09t9wrOd61FKkfrlDYiiia  ...  3J2GNEOtl8CU04R6K1gJWs          3\n",
              "2190960     tango  3ITBhGgOcPsp2Akh9sxtVU  ...  3azc5hJ77lDi49XfoVeAg7          3\n",
              "2190961     tango  3ITBhGgOcPsp2Akh9sxtVU  ...  405FL0PhySH42qdfymm6WB          3\n",
              "2190962     tango  09t9wrOd61FKkfrlDYiiia  ...  4YA7jURY0O3rfI3Tk7mwPx          3\n",
              "2190963     tango  0mvcr4DKuBz2gYcJZeyENN  ...  57gBJla6DGVHxdIpIcKL65          0\n",
              "\n",
              "[2190964 rows x 8 columns]"
            ]
          },
          "metadata": {
            "tags": []
          },
          "execution_count": 12
        }
      ]
    },
    {
      "cell_type": "code",
      "metadata": {
        "id": "ESr2zxIxplhV",
        "colab_type": "code",
        "outputId": "a4717a89-4ae7-44dc-a442-cd14aeb5808a",
        "colab": {
          "base_uri": "https://localhost:8080/",
          "height": 34
        }
      },
      "source": [
        "df.shape"
      ],
      "execution_count": 0,
      "outputs": [
        {
          "output_type": "execute_result",
          "data": {
            "text/plain": [
              "(2190964, 8)"
            ]
          },
          "metadata": {
            "tags": []
          },
          "execution_count": 13
        }
      ]
    },
    {
      "cell_type": "code",
      "metadata": {
        "id": "JgrGBzybxuRn",
        "colab_type": "code",
        "colab": {}
      },
      "source": [
        "df.to_csv('tracks_focusgenres_60to19_wo_index.csv', index=False)"
      ],
      "execution_count": 0,
      "outputs": []
    },
    {
      "cell_type": "code",
      "metadata": {
        "id": "gCDEQIY0AiEK",
        "colab_type": "code",
        "outputId": "28fe022a-06e2-4ff0-f6c9-1004943e1306",
        "colab": {
          "base_uri": "https://localhost:8080/",
          "height": 272
        }
      },
      "source": [
        "df.info()"
      ],
      "execution_count": 0,
      "outputs": [
        {
          "output_type": "stream",
          "text": [
            "<class 'pandas.core.frame.DataFrame'>\n",
            "RangeIndex: 2190964 entries, 0 to 2190963\n",
            "Data columns (total 8 columns):\n",
            " #   Column       Dtype \n",
            "---  ------       ----- \n",
            " 0   genre        object\n",
            " 1   album_id     object\n",
            " 2   album_name   object\n",
            " 3   artist_id    object\n",
            " 4   artist_name  object\n",
            " 5   track_name   object\n",
            " 6   track_id     object\n",
            " 7   popularity   int64 \n",
            "dtypes: int64(1), object(7)\n",
            "memory usage: 133.7+ MB\n"
          ],
          "name": "stdout"
        }
      ]
    },
    {
      "cell_type": "code",
      "metadata": {
        "id": "PlMk_TegDvYj",
        "colab_type": "code",
        "colab": {}
      },
      "source": [
        "df2 = df.drop_duplicates(['genre', 'track_id'])\n",
        "df2.to_csv('spotify-data-from-api/tracks_focusgenres_60to19_wo_index_drop_duplicates.csv', index=False)"
      ],
      "execution_count": 0,
      "outputs": []
    },
    {
      "cell_type": "code",
      "metadata": {
        "id": "Gz_GCE0YJ0za",
        "colab_type": "code",
        "outputId": "0b22a64e-0cbb-412e-a177-8895dd2be5ca",
        "colab": {
          "base_uri": "https://localhost:8080/",
          "height": 34
        }
      },
      "source": [
        "df2.shape"
      ],
      "execution_count": 0,
      "outputs": [
        {
          "output_type": "execute_result",
          "data": {
            "text/plain": [
              "(2185740, 8)"
            ]
          },
          "metadata": {
            "tags": []
          },
          "execution_count": 42
        }
      ]
    },
    {
      "cell_type": "code",
      "metadata": {
        "id": "q2YHqK1qJ5dN",
        "colab_type": "code",
        "outputId": "c124f0f2-d009-488c-a35a-c1c17f93b906",
        "colab": {
          "base_uri": "https://localhost:8080/",
          "height": 272
        }
      },
      "source": [
        "df2.info()"
      ],
      "execution_count": 0,
      "outputs": [
        {
          "output_type": "stream",
          "text": [
            "<class 'pandas.core.frame.DataFrame'>\n",
            "Int64Index: 2185740 entries, 0 to 2190963\n",
            "Data columns (total 8 columns):\n",
            " #   Column       Dtype \n",
            "---  ------       ----- \n",
            " 0   genre        object\n",
            " 1   album_id     object\n",
            " 2   album_name   object\n",
            " 3   artist_id    object\n",
            " 4   artist_name  object\n",
            " 5   track_name   object\n",
            " 6   track_id     object\n",
            " 7   popularity   int64 \n",
            "dtypes: int64(1), object(7)\n",
            "memory usage: 150.1+ MB\n"
          ],
          "name": "stdout"
        }
      ]
    },
    {
      "cell_type": "code",
      "metadata": {
        "id": "DlJsE2uIKYUW",
        "colab_type": "code",
        "outputId": "fbe4ef17-ab01-4f9f-e7f1-d26391aec212",
        "colab": {
          "base_uri": "https://localhost:8080/",
          "height": 572
        }
      },
      "source": [
        "df2 = df2.reset_index(drop=True)"
      ],
      "execution_count": 0,
      "outputs": [
        {
          "output_type": "execute_result",
          "data": {
            "text/html": [
              "<div>\n",
              "<style scoped>\n",
              "    .dataframe tbody tr th:only-of-type {\n",
              "        vertical-align: middle;\n",
              "    }\n",
              "\n",
              "    .dataframe tbody tr th {\n",
              "        vertical-align: top;\n",
              "    }\n",
              "\n",
              "    .dataframe thead th {\n",
              "        text-align: right;\n",
              "    }\n",
              "</style>\n",
              "<table border=\"1\" class=\"dataframe\">\n",
              "  <thead>\n",
              "    <tr style=\"text-align: right;\">\n",
              "      <th></th>\n",
              "      <th>genre</th>\n",
              "      <th>album_id</th>\n",
              "      <th>album_name</th>\n",
              "      <th>artist_id</th>\n",
              "      <th>artist_name</th>\n",
              "      <th>track_name</th>\n",
              "      <th>track_id</th>\n",
              "      <th>popularity</th>\n",
              "    </tr>\n",
              "  </thead>\n",
              "  <tbody>\n",
              "    <tr>\n",
              "      <th>0</th>\n",
              "      <td>acoustic</td>\n",
              "      <td>4CTVy5gDVDlrO4AJuBgha8</td>\n",
              "      <td>Furry Lewis</td>\n",
              "      <td>66SiMdpsWXE23qqX0JaWg9</td>\n",
              "      <td>Furry Lewis</td>\n",
              "      <td>John Henry</td>\n",
              "      <td>3htW4Ky3zoDU1KZGxVLfhz</td>\n",
              "      <td>18</td>\n",
              "    </tr>\n",
              "    <tr>\n",
              "      <th>1</th>\n",
              "      <td>acoustic</td>\n",
              "      <td>7BHkhXaWk5xeJe3C4LiiVO</td>\n",
              "      <td>Autobiography in Blues</td>\n",
              "      <td>6EZzVXM2uDRPmnHWq9yPDE</td>\n",
              "      <td>Lightnin' Hopkins</td>\n",
              "      <td>In the Evening the Sun is Going Down</td>\n",
              "      <td>5dS2OwMcciIrcMqXEVmSCp</td>\n",
              "      <td>11</td>\n",
              "    </tr>\n",
              "    <tr>\n",
              "      <th>2</th>\n",
              "      <td>acoustic</td>\n",
              "      <td>7BHkhXaWk5xeJe3C4LiiVO</td>\n",
              "      <td>Autobiography in Blues</td>\n",
              "      <td>6EZzVXM2uDRPmnHWq9yPDE</td>\n",
              "      <td>Lightnin' Hopkins</td>\n",
              "      <td>Trouble in Mind</td>\n",
              "      <td>2QkmNNiHM9e3R8oT2yGeVo</td>\n",
              "      <td>10</td>\n",
              "    </tr>\n",
              "    <tr>\n",
              "      <th>3</th>\n",
              "      <td>acoustic</td>\n",
              "      <td>3fjNRHWhjtxORG0KRv2nzD</td>\n",
              "      <td>The Big Bill Broonzy Story</td>\n",
              "      <td>6HwigzRpuWoCZDqMOQc5eu</td>\n",
              "      <td>Big Bill Broonzy</td>\n",
              "      <td>Goin' Down The Road Feelin' Bad</td>\n",
              "      <td>2VoJDaa4Iq5piywA1VZ2na</td>\n",
              "      <td>9</td>\n",
              "    </tr>\n",
              "    <tr>\n",
              "      <th>4</th>\n",
              "      <td>acoustic</td>\n",
              "      <td>7BHkhXaWk5xeJe3C4LiiVO</td>\n",
              "      <td>Autobiography in Blues</td>\n",
              "      <td>6EZzVXM2uDRPmnHWq9yPDE</td>\n",
              "      <td>Lightnin' Hopkins</td>\n",
              "      <td>So Long Baby</td>\n",
              "      <td>1wuGKRbfR6OqmeWTBf9mrd</td>\n",
              "      <td>9</td>\n",
              "    </tr>\n",
              "    <tr>\n",
              "      <th>...</th>\n",
              "      <td>...</td>\n",
              "      <td>...</td>\n",
              "      <td>...</td>\n",
              "      <td>...</td>\n",
              "      <td>...</td>\n",
              "      <td>...</td>\n",
              "      <td>...</td>\n",
              "      <td>...</td>\n",
              "    </tr>\n",
              "    <tr>\n",
              "      <th>2185735</th>\n",
              "      <td>tango</td>\n",
              "      <td>09t9wrOd61FKkfrlDYiiia</td>\n",
              "      <td>Aquellas Canciones de Libertad Lamarque (Tango)</td>\n",
              "      <td>4obTALkglm8PARkVVik9KZ</td>\n",
              "      <td>Libertad Lamarque</td>\n",
              "      <td>Ahora No Me Conoces</td>\n",
              "      <td>3J2GNEOtl8CU04R6K1gJWs</td>\n",
              "      <td>3</td>\n",
              "    </tr>\n",
              "    <tr>\n",
              "      <th>2185736</th>\n",
              "      <td>tango</td>\n",
              "      <td>3ITBhGgOcPsp2Akh9sxtVU</td>\n",
              "      <td>Los Tangos del Pichuco (Remastered)</td>\n",
              "      <td>7zsTaSj1Q4jSCjbj5GtmoN</td>\n",
              "      <td>Aníbal Troilo</td>\n",
              "      <td>Inspiración - Remastered</td>\n",
              "      <td>3azc5hJ77lDi49XfoVeAg7</td>\n",
              "      <td>3</td>\n",
              "    </tr>\n",
              "    <tr>\n",
              "      <th>2185737</th>\n",
              "      <td>tango</td>\n",
              "      <td>3ITBhGgOcPsp2Akh9sxtVU</td>\n",
              "      <td>Los Tangos del Pichuco (Remastered)</td>\n",
              "      <td>7zsTaSj1Q4jSCjbj5GtmoN</td>\n",
              "      <td>Aníbal Troilo</td>\n",
              "      <td>Maragata - Remastered</td>\n",
              "      <td>405FL0PhySH42qdfymm6WB</td>\n",
              "      <td>3</td>\n",
              "    </tr>\n",
              "    <tr>\n",
              "      <th>2185738</th>\n",
              "      <td>tango</td>\n",
              "      <td>09t9wrOd61FKkfrlDYiiia</td>\n",
              "      <td>Aquellas Canciones de Libertad Lamarque (Tango)</td>\n",
              "      <td>4obTALkglm8PARkVVik9KZ</td>\n",
              "      <td>Libertad Lamarque</td>\n",
              "      <td>Volver</td>\n",
              "      <td>4YA7jURY0O3rfI3Tk7mwPx</td>\n",
              "      <td>3</td>\n",
              "    </tr>\n",
              "    <tr>\n",
              "      <th>2185739</th>\n",
              "      <td>tango</td>\n",
              "      <td>0mvcr4DKuBz2gYcJZeyENN</td>\n",
              "      <td>Las Doñas del Tango, Vol. 1</td>\n",
              "      <td>4obTALkglm8PARkVVik9KZ</td>\n",
              "      <td>Libertad Lamarque</td>\n",
              "      <td>Sombras Nada Mas</td>\n",
              "      <td>57gBJla6DGVHxdIpIcKL65</td>\n",
              "      <td>0</td>\n",
              "    </tr>\n",
              "  </tbody>\n",
              "</table>\n",
              "<p>2185740 rows × 8 columns</p>\n",
              "</div>"
            ],
            "text/plain": [
              "            genre                album_id  ...                track_id popularity\n",
              "0        acoustic  4CTVy5gDVDlrO4AJuBgha8  ...  3htW4Ky3zoDU1KZGxVLfhz         18\n",
              "1        acoustic  7BHkhXaWk5xeJe3C4LiiVO  ...  5dS2OwMcciIrcMqXEVmSCp         11\n",
              "2        acoustic  7BHkhXaWk5xeJe3C4LiiVO  ...  2QkmNNiHM9e3R8oT2yGeVo         10\n",
              "3        acoustic  3fjNRHWhjtxORG0KRv2nzD  ...  2VoJDaa4Iq5piywA1VZ2na          9\n",
              "4        acoustic  7BHkhXaWk5xeJe3C4LiiVO  ...  1wuGKRbfR6OqmeWTBf9mrd          9\n",
              "...           ...                     ...  ...                     ...        ...\n",
              "2185735     tango  09t9wrOd61FKkfrlDYiiia  ...  3J2GNEOtl8CU04R6K1gJWs          3\n",
              "2185736     tango  3ITBhGgOcPsp2Akh9sxtVU  ...  3azc5hJ77lDi49XfoVeAg7          3\n",
              "2185737     tango  3ITBhGgOcPsp2Akh9sxtVU  ...  405FL0PhySH42qdfymm6WB          3\n",
              "2185738     tango  09t9wrOd61FKkfrlDYiiia  ...  4YA7jURY0O3rfI3Tk7mwPx          3\n",
              "2185739     tango  0mvcr4DKuBz2gYcJZeyENN  ...  57gBJla6DGVHxdIpIcKL65          0\n",
              "\n",
              "[2185740 rows x 8 columns]"
            ]
          },
          "metadata": {
            "tags": []
          },
          "execution_count": 47
        }
      ]
    },
    {
      "cell_type": "code",
      "metadata": {
        "id": "MW3dPwlJE0e4",
        "colab_type": "code",
        "colab": {}
      },
      "source": [
        "test_id = df2.album_id[:22]"
      ],
      "execution_count": 0,
      "outputs": []
    },
    {
      "cell_type": "code",
      "metadata": {
        "id": "rf-RqGT5Ebf9",
        "colab_type": "code",
        "outputId": "94a5fb1b-4216-48ac-8a46-99f63c3b4a27",
        "colab": {
          "base_uri": "https://localhost:8080/",
          "height": 34
        }
      },
      "source": [
        "# get the release date of the songs from albums api\n",
        "# timeit library to measure the time needed to run this code\n",
        "import timeit\n",
        "start = timeit.default_timer()\n",
        "\n",
        "# create empty lists where the results are going to be stored\n",
        "release_date = []\n",
        "release_date_precision = []\n",
        "# num_album = len(album_id)\n",
        "num_album = len(test_id)\n",
        "for i in range(0, num_album, 20):\n",
        "  if i+20 <= num_album:\n",
        "    target_id = album_id[i:i+20]\n",
        "    album_res = sp.albums(target_id)['albums']\n",
        "    for j, a in enumerate(album_res):\n",
        "      release_date.append(a['release_date'])\n",
        "      release_date_precision.append(a['release_date_precision'])\n",
        "  else:\n",
        "    target_id = test_id[i:]\n",
        "    album_res = sp.albums(target_id)['albums']\n",
        "    for j, a in enumerate(album_res):\n",
        "      release_date.append(a['release_date'])\n",
        "      release_date_precision.append(a['release_date_precision'])\n",
        "      \n",
        "\n",
        "stop = timeit.default_timer()\n",
        "print ('Time to run this code (in seconds):', stop - start)"
      ],
      "execution_count": 0,
      "outputs": [
        {
          "output_type": "stream",
          "text": [
            "Time to run this code (in seconds): 0.18522264100010943\n"
          ],
          "name": "stdout"
        }
      ]
    },
    {
      "cell_type": "code",
      "metadata": {
        "id": "OXBk2GJIFDwZ",
        "colab_type": "code",
        "outputId": "4f7889e3-cbf8-45dc-8f91-b86530d03f9e",
        "colab": {
          "base_uri": "https://localhost:8080/",
          "height": 204
        }
      },
      "source": [
        "d = {'album_id': test_id, 'release_date': release_date, 'release_date_precision': release_date_precision}\n",
        "release_date_df = pd.DataFrame(data=d)\n",
        "release_date_df.head()"
      ],
      "execution_count": 0,
      "outputs": [
        {
          "output_type": "execute_result",
          "data": {
            "text/html": [
              "<div>\n",
              "<style scoped>\n",
              "    .dataframe tbody tr th:only-of-type {\n",
              "        vertical-align: middle;\n",
              "    }\n",
              "\n",
              "    .dataframe tbody tr th {\n",
              "        vertical-align: top;\n",
              "    }\n",
              "\n",
              "    .dataframe thead th {\n",
              "        text-align: right;\n",
              "    }\n",
              "</style>\n",
              "<table border=\"1\" class=\"dataframe\">\n",
              "  <thead>\n",
              "    <tr style=\"text-align: right;\">\n",
              "      <th></th>\n",
              "      <th>album_id</th>\n",
              "      <th>release_date</th>\n",
              "      <th>release_date_precision</th>\n",
              "    </tr>\n",
              "  </thead>\n",
              "  <tbody>\n",
              "    <tr>\n",
              "      <th>0</th>\n",
              "      <td>4CTVy5gDVDlrO4AJuBgha8</td>\n",
              "      <td>1960-01-01</td>\n",
              "      <td>day</td>\n",
              "    </tr>\n",
              "    <tr>\n",
              "      <th>1</th>\n",
              "      <td>7BHkhXaWk5xeJe3C4LiiVO</td>\n",
              "      <td>1960-05-07</td>\n",
              "      <td>day</td>\n",
              "    </tr>\n",
              "    <tr>\n",
              "      <th>2</th>\n",
              "      <td>7BHkhXaWk5xeJe3C4LiiVO</td>\n",
              "      <td>1960-05-07</td>\n",
              "      <td>day</td>\n",
              "    </tr>\n",
              "    <tr>\n",
              "      <th>3</th>\n",
              "      <td>3fjNRHWhjtxORG0KRv2nzD</td>\n",
              "      <td>1960-01-01</td>\n",
              "      <td>day</td>\n",
              "    </tr>\n",
              "    <tr>\n",
              "      <th>4</th>\n",
              "      <td>7BHkhXaWk5xeJe3C4LiiVO</td>\n",
              "      <td>1960-05-07</td>\n",
              "      <td>day</td>\n",
              "    </tr>\n",
              "  </tbody>\n",
              "</table>\n",
              "</div>"
            ],
            "text/plain": [
              "                 album_id release_date release_date_precision\n",
              "0  4CTVy5gDVDlrO4AJuBgha8   1960-01-01                    day\n",
              "1  7BHkhXaWk5xeJe3C4LiiVO   1960-05-07                    day\n",
              "2  7BHkhXaWk5xeJe3C4LiiVO   1960-05-07                    day\n",
              "3  3fjNRHWhjtxORG0KRv2nzD   1960-01-01                    day\n",
              "4  7BHkhXaWk5xeJe3C4LiiVO   1960-05-07                    day"
            ]
          },
          "metadata": {
            "tags": []
          },
          "execution_count": 33
        }
      ]
    },
    {
      "cell_type": "code",
      "metadata": {
        "id": "1n0yFgBVFedz",
        "colab_type": "code",
        "colab": {}
      },
      "source": [
        "test_id = df2.artist_id[:52]"
      ],
      "execution_count": 0,
      "outputs": []
    },
    {
      "cell_type": "code",
      "metadata": {
        "id": "nt04OFqoEffR",
        "colab_type": "code",
        "outputId": "9f53f2dd-6142-440d-d093-9eb4e0ffe566",
        "colab": {
          "base_uri": "https://localhost:8080/",
          "height": 34
        }
      },
      "source": [
        "# get the followers of the songs from artists api\n",
        "# timeit library to measure the time needed to run this code\n",
        "import timeit\n",
        "start = timeit.default_timer()\n",
        "\n",
        "# create empty lists where the results are going to be stored\n",
        "artist_followers = []\n",
        "# num_album = len(album_id)\n",
        "num_artist = len(test_id)\n",
        "for i in range(0, num_artist, 50):\n",
        "  if i+50 <= num_artist:\n",
        "    target_id = artist_id[i:i+50]\n",
        "    artist_res = sp.artists(target_id)['artists']\n",
        "    for j, a in enumerate(artist_res):\n",
        "      artist_followers.append(a['followers']['total'])\n",
        "  else:\n",
        "    target_id = test_id[i:]\n",
        "    artist_res = sp.artists(target_id)['artists']\n",
        "    for j, a in enumerate(artist_res):\n",
        "      artist_followers.append(a['followers']['total'])\n",
        "      \n",
        "\n",
        "stop = timeit.default_timer()\n",
        "print ('Time to run this code (in seconds):', stop - start)"
      ],
      "execution_count": 0,
      "outputs": [
        {
          "output_type": "stream",
          "text": [
            "Time to run this code (in seconds): 0.025269495000429743\n"
          ],
          "name": "stdout"
        }
      ]
    },
    {
      "cell_type": "code",
      "metadata": {
        "id": "7lWmUmv5Faov",
        "colab_type": "code",
        "outputId": "2c3b8e90-cd15-49aa-d7d8-af2a99ecadef",
        "colab": {
          "base_uri": "https://localhost:8080/",
          "height": 204
        }
      },
      "source": [
        "d = {'artist_id': test_id, 'artist_followers': artist_followers}\n",
        "artist_followers_df = pd.DataFrame(data=d)\n",
        "artist_followers_df.head()"
      ],
      "execution_count": 0,
      "outputs": [
        {
          "output_type": "execute_result",
          "data": {
            "text/html": [
              "<div>\n",
              "<style scoped>\n",
              "    .dataframe tbody tr th:only-of-type {\n",
              "        vertical-align: middle;\n",
              "    }\n",
              "\n",
              "    .dataframe tbody tr th {\n",
              "        vertical-align: top;\n",
              "    }\n",
              "\n",
              "    .dataframe thead th {\n",
              "        text-align: right;\n",
              "    }\n",
              "</style>\n",
              "<table border=\"1\" class=\"dataframe\">\n",
              "  <thead>\n",
              "    <tr style=\"text-align: right;\">\n",
              "      <th></th>\n",
              "      <th>artist_id</th>\n",
              "      <th>artist_followers</th>\n",
              "    </tr>\n",
              "  </thead>\n",
              "  <tbody>\n",
              "    <tr>\n",
              "      <th>0</th>\n",
              "      <td>66SiMdpsWXE23qqX0JaWg9</td>\n",
              "      <td>10744</td>\n",
              "    </tr>\n",
              "    <tr>\n",
              "      <th>1</th>\n",
              "      <td>6EZzVXM2uDRPmnHWq9yPDE</td>\n",
              "      <td>155668</td>\n",
              "    </tr>\n",
              "    <tr>\n",
              "      <th>2</th>\n",
              "      <td>6EZzVXM2uDRPmnHWq9yPDE</td>\n",
              "      <td>155668</td>\n",
              "    </tr>\n",
              "    <tr>\n",
              "      <th>3</th>\n",
              "      <td>6HwigzRpuWoCZDqMOQc5eu</td>\n",
              "      <td>32332</td>\n",
              "    </tr>\n",
              "    <tr>\n",
              "      <th>4</th>\n",
              "      <td>6EZzVXM2uDRPmnHWq9yPDE</td>\n",
              "      <td>155668</td>\n",
              "    </tr>\n",
              "  </tbody>\n",
              "</table>\n",
              "</div>"
            ],
            "text/plain": [
              "                artist_id  artist_followers\n",
              "0  66SiMdpsWXE23qqX0JaWg9             10744\n",
              "1  6EZzVXM2uDRPmnHWq9yPDE            155668\n",
              "2  6EZzVXM2uDRPmnHWq9yPDE            155668\n",
              "3  6HwigzRpuWoCZDqMOQc5eu             32332\n",
              "4  6EZzVXM2uDRPmnHWq9yPDE            155668"
            ]
          },
          "metadata": {
            "tags": []
          },
          "execution_count": 37
        }
      ]
    },
    {
      "cell_type": "code",
      "metadata": {
        "id": "Az2BLgBNFuXp",
        "colab_type": "code",
        "colab": {}
      },
      "source": [
        "test_id = track_id[:102]"
      ],
      "execution_count": 0,
      "outputs": []
    },
    {
      "cell_type": "code",
      "metadata": {
        "id": "D9_dS_yaEfQN",
        "colab_type": "code",
        "outputId": "31bd22e9-ee4e-4ac7-f564-363a452efd95",
        "colab": {
          "base_uri": "https://localhost:8080/",
          "height": 34
        }
      },
      "source": [
        "# get the audio features of the songs from audio features api\n",
        "# timeit library to measure the time needed to run this code\n",
        "import timeit\n",
        "start = timeit.default_timer()\n",
        "\n",
        "# create empty lists where the results are going to be stored\n",
        "acousticness = []\n",
        "danceability = []\n",
        "duration_ms = []\n",
        "energy = []\n",
        "instrumentalness = []\n",
        "key = []\n",
        "liveness = []\n",
        "loudness = []\n",
        "mode = []\n",
        "speechiness = []\n",
        "tempo = []\n",
        "time_signature = []\n",
        "valence = []\n",
        "# num_album = len(album_id)\n",
        "num_track = len(test_id)\n",
        "for i in range(0, num_track, 100):\n",
        "  if i+100 <= num_track:\n",
        "    target_id = track_id[i:i+100]\n",
        "    audio_res = sp.audio_features(target_id)\n",
        "    for j, a in enumerate(audio_res):\n",
        "      acousticness.append(a['acousticness'])\n",
        "      danceability.append(a['danceability'])\n",
        "      duration_ms.append(a['duration_ms'])\n",
        "      energy.append(a['energy'])\n",
        "      instrumentalness.append(a['instrumentalness'])\n",
        "      key.append(a['key'])\n",
        "      liveness.append(a['liveness'])\n",
        "      loudness.append(a['loudness'])\n",
        "      mode.append(a['mode'])\n",
        "      speechiness.append(a['speechiness'])\n",
        "      tempo.append(a['tempo'])\n",
        "      time_signature.append(a['time_signature'])\n",
        "      valence.append(a['valence'])\n",
        "  else:\n",
        "    target_id = test_id[i:]\n",
        "    audio_res = sp.audio_features(target_id)\n",
        "    for j, a in enumerate(audio_res):\n",
        "      acousticness.append(a['acousticness'])\n",
        "      danceability.append(a['danceability'])\n",
        "      duration_ms.append(a['duration_ms'])\n",
        "      energy.append(a['energy'])\n",
        "      instrumentalness.append(a['instrumentalness'])\n",
        "      key.append(a['key'])\n",
        "      liveness.append(a['liveness'])\n",
        "      loudness.append(a['loudness'])\n",
        "      mode.append(a['mode'])\n",
        "      speechiness.append(a['speechiness'])\n",
        "      tempo.append(a['tempo'])\n",
        "      time_signature.append(a['time_signature'])\n",
        "      valence.append(a['valence'])\n",
        "      \n",
        "\n",
        "stop = timeit.default_timer()\n",
        "print ('Time to run this code (in seconds):', stop - start)"
      ],
      "execution_count": 0,
      "outputs": [
        {
          "output_type": "stream",
          "text": [
            "Time to run this code (in seconds): 0.2080430490004801\n"
          ],
          "name": "stdout"
        }
      ]
    },
    {
      "cell_type": "code",
      "metadata": {
        "id": "Ya44RasHFzUe",
        "colab_type": "code",
        "outputId": "5705d2e4-ea6b-4d8e-83c9-8dd0ec2b6068",
        "colab": {
          "base_uri": "https://localhost:8080/",
          "height": 224
        }
      },
      "source": [
        "d = {'track_id': test_id, 'acousticness': acousticness, 'danceability': danceability, 'duration_ms': duration_ms, 'energy': energy, \n",
        "     'instrumentalness': instrumentalness, 'key': key, 'liveness': liveness, 'loudness': loudness, 'mode': mode, 'speechiness': speechiness,\n",
        "     'tempo': tempo, 'time_signature': time_signature, 'valence': valence}\n",
        "audio_features_df = pd.DataFrame(data=d)\n",
        "audio_features_df.head()"
      ],
      "execution_count": 0,
      "outputs": [
        {
          "output_type": "execute_result",
          "data": {
            "text/html": [
              "<div>\n",
              "<style scoped>\n",
              "    .dataframe tbody tr th:only-of-type {\n",
              "        vertical-align: middle;\n",
              "    }\n",
              "\n",
              "    .dataframe tbody tr th {\n",
              "        vertical-align: top;\n",
              "    }\n",
              "\n",
              "    .dataframe thead th {\n",
              "        text-align: right;\n",
              "    }\n",
              "</style>\n",
              "<table border=\"1\" class=\"dataframe\">\n",
              "  <thead>\n",
              "    <tr style=\"text-align: right;\">\n",
              "      <th></th>\n",
              "      <th>track_id</th>\n",
              "      <th>acousticness</th>\n",
              "      <th>danceability</th>\n",
              "      <th>duration_ms</th>\n",
              "      <th>energy</th>\n",
              "      <th>instrumentalness</th>\n",
              "      <th>key</th>\n",
              "      <th>liveness</th>\n",
              "      <th>loudness</th>\n",
              "      <th>mode</th>\n",
              "      <th>speechiness</th>\n",
              "      <th>tempo</th>\n",
              "      <th>time_signature</th>\n",
              "      <th>valence</th>\n",
              "    </tr>\n",
              "  </thead>\n",
              "  <tbody>\n",
              "    <tr>\n",
              "      <th>0</th>\n",
              "      <td>3htW4Ky3zoDU1KZGxVLfhz</td>\n",
              "      <td>0.955</td>\n",
              "      <td>0.465</td>\n",
              "      <td>291307</td>\n",
              "      <td>0.102</td>\n",
              "      <td>0.000002</td>\n",
              "      <td>1</td>\n",
              "      <td>0.0867</td>\n",
              "      <td>-16.101</td>\n",
              "      <td>1</td>\n",
              "      <td>0.0473</td>\n",
              "      <td>118.543</td>\n",
              "      <td>4</td>\n",
              "      <td>0.117</td>\n",
              "    </tr>\n",
              "    <tr>\n",
              "      <th>1</th>\n",
              "      <td>5dS2OwMcciIrcMqXEVmSCp</td>\n",
              "      <td>0.969</td>\n",
              "      <td>0.685</td>\n",
              "      <td>253393</td>\n",
              "      <td>0.221</td>\n",
              "      <td>0.026000</td>\n",
              "      <td>10</td>\n",
              "      <td>0.0997</td>\n",
              "      <td>-13.098</td>\n",
              "      <td>1</td>\n",
              "      <td>0.0469</td>\n",
              "      <td>114.236</td>\n",
              "      <td>4</td>\n",
              "      <td>0.496</td>\n",
              "    </tr>\n",
              "    <tr>\n",
              "      <th>2</th>\n",
              "      <td>2QkmNNiHM9e3R8oT2yGeVo</td>\n",
              "      <td>0.973</td>\n",
              "      <td>0.669</td>\n",
              "      <td>173689</td>\n",
              "      <td>0.309</td>\n",
              "      <td>0.020700</td>\n",
              "      <td>5</td>\n",
              "      <td>0.0974</td>\n",
              "      <td>-11.822</td>\n",
              "      <td>1</td>\n",
              "      <td>0.0787</td>\n",
              "      <td>111.897</td>\n",
              "      <td>4</td>\n",
              "      <td>0.586</td>\n",
              "    </tr>\n",
              "    <tr>\n",
              "      <th>3</th>\n",
              "      <td>2VoJDaa4Iq5piywA1VZ2na</td>\n",
              "      <td>0.964</td>\n",
              "      <td>0.758</td>\n",
              "      <td>137467</td>\n",
              "      <td>0.154</td>\n",
              "      <td>0.000000</td>\n",
              "      <td>6</td>\n",
              "      <td>0.2180</td>\n",
              "      <td>-10.596</td>\n",
              "      <td>0</td>\n",
              "      <td>0.0448</td>\n",
              "      <td>92.016</td>\n",
              "      <td>4</td>\n",
              "      <td>0.464</td>\n",
              "    </tr>\n",
              "    <tr>\n",
              "      <th>4</th>\n",
              "      <td>1wuGKRbfR6OqmeWTBf9mrd</td>\n",
              "      <td>0.951</td>\n",
              "      <td>0.651</td>\n",
              "      <td>107586</td>\n",
              "      <td>0.207</td>\n",
              "      <td>0.109000</td>\n",
              "      <td>9</td>\n",
              "      <td>0.1060</td>\n",
              "      <td>-15.608</td>\n",
              "      <td>1</td>\n",
              "      <td>0.0821</td>\n",
              "      <td>106.334</td>\n",
              "      <td>4</td>\n",
              "      <td>0.427</td>\n",
              "    </tr>\n",
              "  </tbody>\n",
              "</table>\n",
              "</div>"
            ],
            "text/plain": [
              "                 track_id  acousticness  ...  time_signature  valence\n",
              "0  3htW4Ky3zoDU1KZGxVLfhz         0.955  ...               4    0.117\n",
              "1  5dS2OwMcciIrcMqXEVmSCp         0.969  ...               4    0.496\n",
              "2  2QkmNNiHM9e3R8oT2yGeVo         0.973  ...               4    0.586\n",
              "3  2VoJDaa4Iq5piywA1VZ2na         0.964  ...               4    0.464\n",
              "4  1wuGKRbfR6OqmeWTBf9mrd         0.951  ...               4    0.427\n",
              "\n",
              "[5 rows x 14 columns]"
            ]
          },
          "metadata": {
            "tags": []
          },
          "execution_count": 40
        }
      ]
    }
  ]
}